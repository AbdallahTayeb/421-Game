{
 "cells": [
  {
   "cell_type": "code",
   "execution_count": 423,
   "id": "87ec2306",
   "metadata": {},
   "outputs": [
    {
     "name": "stdout",
     "output_type": "stream",
     "text": [
      "Dof turn ...\n",
      "(5, 2, 4)\n",
      "Do you want to roll again ?d1,d2,d3\n",
      "(1, 2, 3)\n",
      "Do you want to roll again ?stop\n",
      "Dof final's score (3, 2, 1)\n",
      "Boualem turn ...\n",
      "(5, 2, 2)\n",
      "Do you want to roll again ?d1,d2,d3\n",
      "(4, 6, 5)\n",
      "Do you want to roll again ?stop\n",
      "Boualem final's score (6, 5, 4)\n",
      "(6, 5, 4)>(3, 2, 1) Boualem win\n"
     ]
    }
   ],
   "source": [
    "import random\n",
    "\n",
    "class Dice:\n",
    "\n",
    "    def __init__(self):\n",
    "        self.value = None\n",
    "\n",
    "    def __str__(self):\n",
    "        return f\"Dice value : {self.value}\"\n",
    "\n",
    "    def roll(self):\n",
    "        self.value = random.randint(1,6)\n",
    "        return self.value\n",
    "\n",
    "    \n",
    "class Hand:\n",
    "    def __init__(self,d1,d2,d3):\n",
    "        self.d1 = d1\n",
    "        self.d2 = d2\n",
    "        self.d3 = d3\n",
    "        \n",
    "    \n",
    "    \n",
    "    def throw(self,k=['d1','d2','d3']):\n",
    "        if 'd1' in k:\n",
    "            self.d1.roll()\n",
    "        if 'd2' in k:\n",
    "            self.d2.roll()\n",
    "        if 'd3' in k:\n",
    "            self.d3.roll()\n",
    "        print((self.d1.value,self.d2.value,self.d3.value))\n",
    "        \n",
    "    def get_score(self):\n",
    "        return tuple(sorted((self.d1.value,self.d2.value,self.d3.value),reverse=True))\n",
    "        \n",
    "class Player():\n",
    "    def __init__(self,name,hand):\n",
    "        self.name=name\n",
    "        self.hand=hand\n",
    "\n",
    "    def play(self):\n",
    "        print(f\"{self.name} turn ...\")\n",
    "        self.hand.throw()\n",
    "        for i in range(2):\n",
    "            answer = input(\"Do you want to roll again ?\").strip()\n",
    "            if answer == \"stop\":\n",
    "                break\n",
    "            else:\n",
    "                self.hand.throw(answer)\n",
    "        print(f\"{self.name} final's score {self.hand.get_score()}\")\n",
    "        return self.hand.get_score()\n",
    "        \n",
    "# Player 1\n",
    "first_hand = Hand(Dice(),Dice(),Dice())\n",
    "second_hand = Hand(Dice(),Dice(),Dice())\n",
    "\n",
    "player1 = Player(name='Dof',hand=first_hand)\n",
    "player2 = Player(name='Boualem',hand=second_hand)\n",
    "\n",
    "\n",
    "score1 = player1.play()\n",
    "score2 = player2.play()\n",
    "\n",
    "if rules.index(score1)<rules.index(score2):\n",
    "    print(f\"{score1}>{score2} {player1.name} win\")\n",
    "elif rules.index(score1)>rules.index(score2):\n",
    "    print(f\"{score2}>{score1} {player2.name} win\")      \n",
    "else:\n",
    "    print(\"Photo\")"
   ]
  },
  {
   "cell_type": "code",
   "execution_count": 403,
   "id": "52acbade",
   "metadata": {},
   "outputs": [
    {
     "data": {
      "text/plain": [
       "54"
      ]
     },
     "execution_count": 403,
     "metadata": {},
     "output_type": "execute_result"
    }
   ],
   "source": [
    "rules = [(4,2,1),(1,1,1),(6,1,1),(6,6,6),(5,1,1),(5,5,5),(4,1,1),(4,4,4),(3,1,1),(3,3,3),(2,1,1),(2,2,2)\n",
    ",(6,5,4),(5,4,3),(4,3,2),(3,2,1)\n",
    ",(6,6,5),(6,6,4),(6,6,3),(6,6,2),(6,6,1),(6,5,5),(6,5,3),(6,5,2),(6,5,1),(6,4,4),(6,4,3),(6,4,2),(6,4,1),(6,3,3),(6,3,2),(6,3,1),(6,2,2),(6,2,1)\n",
    ",(5,5,4),(5,5,3),(5,5,2),(5,5,1),(5,4,4),(5,4,2),(5,4,1),(5,3,3),(5,3,2),(5,3,1),(5,2,2),(5,2,1)\n",
    ",(4,4,3),(4,4,2),(4,4,1),(4,3,3),(4,3,1),(4,2,2)\n",
    ",(3,3,2),(3,3,1),(3,2,2)\n",
    ",(2,2,1)]\n",
    "rules.index((3,2,2))"
   ]
  }
 ],
 "metadata": {
  "kernelspec": {
   "display_name": "Python 3 (ipykernel)",
   "language": "python",
   "name": "python3"
  },
  "language_info": {
   "codemirror_mode": {
    "name": "ipython",
    "version": 3
   },
   "file_extension": ".py",
   "mimetype": "text/x-python",
   "name": "python",
   "nbconvert_exporter": "python",
   "pygments_lexer": "ipython3",
   "version": "3.9.7"
  }
 },
 "nbformat": 4,
 "nbformat_minor": 5
}
